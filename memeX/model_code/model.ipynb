{
 "cells": [
  {
   "cell_type": "markdown",
   "id": "356ead13-b853-4a53-a079-bbb3aa6d3097",
   "metadata": {},
   "source": [
    "# load dataset"
   ]
  },
  {
   "cell_type": "code",
   "execution_count": 2,
   "id": "2ae5d7c5-e997-4600-a163-5ee952d7182c",
   "metadata": {},
   "outputs": [],
   "source": [
    "import pandas as pd"
   ]
  },
  {
   "cell_type": "code",
   "execution_count": 4,
   "id": "30ef3f1f-a0b5-4bbc-9451-2ef288a11c1a",
   "metadata": {},
   "outputs": [],
   "source": [
    "data = pd.read_csv('../dataset/shortjokes.csv')"
   ]
  },
  {
   "cell_type": "code",
   "execution_count": 5,
   "id": "30cb8338-65cd-4017-9fb0-c8fb19719273",
   "metadata": {},
   "outputs": [],
   "source": [
    "text = '\\n '.join(data['Joke'])"
   ]
  },
  {
   "cell_type": "code",
   "execution_count": 6,
   "id": "0c078a88-4ca5-4f92-963b-e987c2a91a05",
   "metadata": {},
   "outputs": [
    {
     "data": {
      "text/plain": [
       "'[me narrating a documentary about narrators] \"I can\\'t hear what they\\'re saying cuz I\\'m talking\"\\n Telling my daughter garlic is good for you. Good immune system and keeps pests away.Ticks, mosquitos, vampires... men.\\n I\\'ve been going through a really rough period at work this week It\\'s my own fault for swapping my tampax for sand paper.\\n If I could have dinner with anyone, dead or alive... ...I would choose alive. -B.J. Novak-\\n Two guys walk into a bar. The third guy ducks.\\n Why can\\'t Barbie get pregnant? Because Ken comes in a different box. Heyooooooo\\n Why was the musician arrested? He got in treble.\\n Did you hear about the guy who blew his entire lottery winnings on a limousine? He had nothing left to chauffeur it.\\n What do you do if a bird shits on your car? Don\\'t ask her out again.\\n He was a real gentlemen and always opened the fridge door for me\\n Telling my daugthers date that \"she has lice and its very contagious the closer you get to her.\" *Correct way to parent.\\n What should you do before criticizing Pac-Man? WAKA WAKA WAKA mile in his shoes\\n What\\'s the difference between an illegal Mexican and an autonomous robot...? Nothing... they were both made to steal American jobs.\\n What do you call a barbarian you can\\'t see? an Invisigoth.\\n How do you spell Canda? C,eh,N,eh,D,eh\\n You ever notice that the most dangerous thing about marijuana is getting caught with it?\\n What did Arnold Schwarzenegger say at the abortion clinic? Hasta last vista, baby.\\n My wife is in a bad mood. I think her boyfriend forgot their anniversary. Way to go, dude. Now we all suffer...\\n My speech today will be like a mini-skirt. Long enough to cover the essentials but short enough to hold your attention!\\n Thanksgiving joke What does Miley Cyrus eat for Thanksgiving? Twerky! Just kidding... Drugs. She eats drugs. -Adam Zopf @adamzopf\\n Why do you never see elephants hiding in trees? \\'Cause they are freaking good at it\\n How did the blonde die raking leaves? She fell out of the tree.\\n \"That guy is such a douche-bag! Is he single? Maybe I can fix him!\"  women\\n My son just got a tattoo of a heart, a spade, a club, and a diamond, all without my permission. I guess I\\'ll deal with him later.\\n What do you call a potato in space? Spudnik\\n How to get a cop\\'s attention\\n What happens to a necrophiliac after death? Reserection\\n Why did the chicken hold a seance? To get to the other side.\\n Where do baby cows go to eat lunch? At the calf-eteria.\\n What\\'s the difference between a painting and Jesus. You only require one nail to put up the painting.\\n Mom: \"Do you want this?\" Me: \"No.\" Mom: \"Ok I\\'ll give it to your brother.\" Me: \"No I want it.\"\\n How do you fit 4 gays on one barstool? Flip it over!\\n I am looking forward to 6pm Thanksgiving Day when Walmart opens its doors for its annual sale of trampled human corpses.\\n Yttrium-barium-copper oxide walks into a bar The bartender tells him, \"We don\\'t serve superconductors here.\" He leaves without resistance.\\n A guy pick up a woman Then he puts her down\\n Every night, I take all of the singles out of my wallet, spread them on the bed, and pretend I was pretty that day.\\n Which gospel contains Jesus\\' parable about the shades of numbers? Math hue.\\n Ibuprofen is my favorite headache medicine that also sounds like a reggae professor.\\n Ted Cruz getting elected.\\n Before I destroy a wasp\\'s nest I like to capture a single wasp and tell it my entire diabolical plan.\\n What\\'s Al-Qaeda\\'s favorite American football team? The New York jets.\\n INTERVIEWER: Why do you want to work here? ME: *crumbs tumbling from my mouth* Oh, I don\\'t. I was just walking by and saw you had donuts.\\n Coming on valentines day. Fifty shades of grey. There won\\'t be a dry seat in the cinema.\\n Did you hear about the midget psychic who escaped from prison? He\\'s a small medium at large.\\n Someone didnt click the button in /r/thebutton Yeah... Thats a good joke , he impossible!\\n What\\'s the difference between a car tyre, and 365 condoms? One\\'s a Goodyear, an the other\\'s a great year.\\n Roses are red, Violets are blue. I have a gun. Get in the van.\\n I\\'ve struggled for years to be above the influence... But I\\'ve never been able to get that high\\n With Facebook, you can stay in touch with people you would otherwise never talk to, but that\\'s only one of the many awful things about it\\n What\\'s the difference between a blonde and a washer? When you dump your load in a washer, it doesn\\'t follow you around for a week.\\n Have you ever heard of the movie \"Constipation\"? No? Most likely because it never came out.\\n What\\'s black, blue and doesn\\'t look too well? Stevie Wonder\\n I saw a French rifle on eBay today It\\'s never been fired but I heard it was dropped once.\\n What did the car said to the valet? I\\'ve been through a lot.\\n Bill Clinton must be the luckiest man in the world. All of the sex he has, with Hillary, you know it\\'s hate sex.\\n yeah girl.. shake that thing where poop comes out of. it really turns me on when your poop factory shakes faster than usual\\n \"I can\\'t stand when people say they hate both of the presidential candidates.\" --Stephen Hawking\\n A Mexican fireman had twin boys He named them Jose and Hose B\\n I was drinking at the bar, so I took a bus home. That may not be a big deal to you, but I\\'ve never driven a bus before!\\n Donald Trump will ban the sale of shredded cheese He wants to make America grate again\\n Things have really turned around for me since I re-named my penis and testicles \"JD Power and Associates\".\\n My sex face is the same as my first pee in three hours face.\\n My cat just walked by me carrying a toy mouse I don\\'t remember buying her. Women be shoppin!!!!!!!!!!!!!!!!!!!!!!!!!!!!!!!!!!!!!!!!!!!!!!!!!\\n Why did the Xbox owner cross the road? To fuck your mom.\\n Sometimes you check the amount of subscribed people. When you do this, there are 4,111,093,0003.666 \"humorists\". 2/3rds of a person? Really?\\n I don\\'t believe in Bigfoot; because he never believed in me. I\\'d scan the crowd at my ballet recitals, and always see that one empty seat.\\n What did the porn actress say when she opened the door? Make sure to come upstairs.\\n I don\\'t judge people based on color, race, religion, sexuality, or gender...I base it on whether or not they\\'re an asshole.\\n Why were the baker\\'s hands brown? Because he kneaded a poo.\\n Not to get too technical, but chemistry says alcohol IS a solution. So I win.\\n I often think if I\\'d taken a different path in life, I could be lying on a slightly more comfortable sofa right now.\\n I\\'m terrible at telling jokes... I always punch up the fuck lines\\n What did the hillbilly say to his sister after she asked him to have sex with her? If you incest.\\n \"You know what, we need a huge spoon to take care of this\" -Guy who invented shovels\\n How to keep the flies off the bride at an Italian wedding Keep a bucket of shit next to her\\n What do grandparents smell like? \"Depends\"\\n 7% of all hearing loss is a result of sitting in a restaurant next to a table full of women who just received dessert.\\n What do people from the 1930\\'s and /r/news jokes have in common? They\\'re both old.\\n I like my slaves like I like my coffee Fair Trade.\\n ME: I fell off a 50 ft tall ladder once GIRL: holy cow how did you survive ME: I fell off the bottom rung\\n What do you call a blind dinosaur? A do-think-he-saurus :) !! Lol What do you call a blind dinosaurs dog? A do-you-think-he-saurus-rex\\n I just bought a very tiny amphibian for a pet. It\\'s my-newt!\\n This may be not be a mainstream opinion, but I don\\'t believe you should cut down a Christmas tree unless you intend on eating it.\\n Jenna Jameson to Oprah, \"There\\'s a little bit of Jenna Jameson in everyone.\" I\\'m pretty sure she got that backwards.\\n Even after 20 years, Jared Fogle is still getting into smaller and smaller jeans.\\n I have a degree in men\\'s studies. It\\'s called \"world history\". #TRUMP 2016! YOU CAN\\'T STUMP THE TRUMP!\\n Why don\\'t most fans like the first 39 episodes of DBZ? Its pretty gay, just Saiyan.\\n My ex-wife still misses me... But her aim is gettin better.\\n This doctor once told me eating a bagel was like eating 5 slices of bread and I was like ok, cool, I like bread\\n What do you call a three-humped camel? Pregnant (Told to me by one of the kids at work)\\n What did the two tampons say to each other? Nothing, they\\'re both stuck-up cunts.\\n What do you call Jay-Z having a leg transplant? A hip-hop hip op.\\n What defies the law of gravity? Women. They heavier they are, the easier they are to pick up.\\n Everything has to be related in a woman: if the mouth shuts, the legs open.\\n Wanna hear a pun about long hair? Rapunzel.\\n \"I\\'m so pissed I could punch a ba-\" \"A what?\" Big Baby from Toy Story 3 hovers over me, sawed-off shotgun in hand. \"A bagel. I HATE carbs.\"\\n What\\'s the difference Donald Trump and my Vagina? One\\'s a Cunt and the other has nice hair.\\n My doctor had to put me on a new medication that\\'s supposed to help lower the amount of karate in my blood\\n [uses the restroom] Wife: make sure to put the toilet seat down Me: okay Me: [to toilet seat] you\\'re worthless and nobody likes you\\n Q: What\\'s the difference between a blonde and a supermarket trolley? A: The supermarket trolley has a mind of its own.\\n You know... When someone says to you \"Jesus loves you.\" It\\'s always comforting. Unless you are in a Mexican jail.\\n When I hear \"This call is being monitored for quality assurance\" I think \"Cool, let\\'s see how bad this person wants their job.\"\\n You know what the definition of \"competitive\" is? Finishing first *and* third in a circlejerk.\\n How do you know if your wine was made in the 90\\'s? It smells like teen spirit.\\n What was the name of Paul Revere\\'s favorite porno mag? The British are Coming\\n [car wreck] [hand reaches out] \"Take my hand. I\\'m Chad Kroeger from the popular band Nickelback.\" [I let the flames slowly bake me alive]\\n Just waiting for Steve Harvey to come out and say it\\'s actually Clinton any second now\\n Chicken Why did the chicken cross the road? Why? To go to the gay guys house Knock knock Who\\'s there?'"
      ]
     },
     "execution_count": 6,
     "metadata": {},
     "output_type": "execute_result"
    }
   ],
   "source": [
    "text[:10000]"
   ]
  },
  {
   "cell_type": "markdown",
   "id": "8f09cb04-ff57-4d0e-b036-0872b980b0f0",
   "metadata": {},
   "source": [
    "# tokenization"
   ]
  },
  {
   "cell_type": "code",
   "execution_count": 7,
   "id": "2af71d7a-3b2f-43d1-aeea-7911abf349e9",
   "metadata": {},
   "outputs": [
    {
     "name": "stdout",
     "output_type": "stream",
     "text": [
      "Requirement already satisfied: tiktoken in c:\\python311\\lib\\site-packages (0.8.0)\n",
      "Requirement already satisfied: regex>=2022.1.18 in c:\\python311\\lib\\site-packages (from tiktoken) (2024.11.6)\n",
      "Requirement already satisfied: requests>=2.26.0 in c:\\python311\\lib\\site-packages (from tiktoken) (2.31.0)\n",
      "Requirement already satisfied: charset-normalizer<4,>=2 in c:\\python311\\lib\\site-packages (from requests>=2.26.0->tiktoken) (3.1.0)\n",
      "Requirement already satisfied: idna<4,>=2.5 in c:\\python311\\lib\\site-packages (from requests>=2.26.0->tiktoken) (3.4)\n",
      "Requirement already satisfied: urllib3<3,>=1.21.1 in c:\\python311\\lib\\site-packages (from requests>=2.26.0->tiktoken) (2.0.3)\n",
      "Requirement already satisfied: certifi>=2017.4.17 in c:\\python311\\lib\\site-packages (from requests>=2.26.0->tiktoken) (2023.5.7)\n"
     ]
    },
    {
     "name": "stderr",
     "output_type": "stream",
     "text": [
      "\n",
      "[notice] A new release of pip is available: 24.0 -> 24.3.1\n",
      "[notice] To update, run: python.exe -m pip install --upgrade pip\n"
     ]
    }
   ],
   "source": [
    "! pip install tiktoken"
   ]
  },
  {
   "cell_type": "code",
   "execution_count": 8,
   "id": "d2afbb4c-5f04-4cc0-8b56-b7afe955a24e",
   "metadata": {},
   "outputs": [],
   "source": [
    "import tiktoken \n",
    "\n",
    "enc = tiktoken.encoding_for_model(\"gpt-4o\")\n"
   ]
  },
  {
   "cell_type": "code",
   "execution_count": 9,
   "id": "ce0c5309-9bbb-4106-aa04-271f293f58cf",
   "metadata": {},
   "outputs": [
    {
     "data": {
      "text/plain": [
       "[3686, 1354]"
      ]
     },
     "execution_count": 9,
     "metadata": {},
     "output_type": "execute_result"
    }
   ],
   "source": [
    "enc.encode(\"hi there\")"
   ]
  },
  {
   "cell_type": "code",
   "execution_count": 10,
   "id": "7be36e5e-bd07-404d-a3bc-16cee425edbf",
   "metadata": {},
   "outputs": [
    {
     "data": {
      "text/plain": [
       "'hi there'"
      ]
     },
     "execution_count": 10,
     "metadata": {},
     "output_type": "execute_result"
    }
   ],
   "source": [
    "enc.decode([3686, 1354])"
   ]
  },
  {
   "cell_type": "code",
   "execution_count": 11,
   "id": "3d8be9a3-3290-4377-be3d-2030c2e2515b",
   "metadata": {},
   "outputs": [],
   "source": [
    "import torch"
   ]
  },
  {
   "cell_type": "code",
   "execution_count": 12,
   "id": "0b32087c-86c9-4f40-9831-242f807889a6",
   "metadata": {},
   "outputs": [
    {
     "data": {
      "text/plain": [
       "tensor([    58,   1047,  18225,   1365,    261,  42555,   1078,  18225,   4840,\n",
       "            60,    392,     40,   8535,   9598,   1412,  18940,  10326, 149051,\n",
       "          5477,  11695,   1092,    353,   4481,    922,  13857,  42756,    382,\n",
       "          1899,    395,    481,     13,   9700,  31907,   2420,    326,  18295,\n",
       "         79832,   4194,   2600,   8736,     11,  22644, 168769,     11, 128429,\n",
       "          1008,   1966,    558,   9790,   1339,   2966,   1819,    261,   2715,\n",
       "         19595,   5265,    540,   1101,    495,   2384,   7744,    922,   2316,\n",
       "         20795,    395, 132194,    922,  36993,   1362,    395,  10749,   6651,\n",
       "           558,   1843,    357,   2023,    679,  16078,    483,   7545,     11,\n",
       "          9224,    503,  23757,   1008,   2550,     40,   1481,   5655,  23757,\n",
       "            13,    533,     33,   5005,     13, 169101,   7413,  13311,  11655,\n",
       "          5229,   1511,    261,   3608,     13,    623,   6914,  12159, 132116,\n",
       "           558,  12587,   8535, 104565,    717,  29978,     30,  13602,  16999,\n",
       "          5124,    306,    261,   2647,   5506,     13,  41877,  43022,  61341,\n",
       "           198,  12587,    673,    290,  54152,  28998,     30,   1679,   3508,\n",
       "           306,   4360,   1124,    558,  21409,    481,   9598,   1078,    290,\n",
       "         12159,   1218,  82068,   1232,   6508,  42560,  74545,    402,    261,\n",
       "        191742,     30,   1679,   1458,   6939,   3561,    316, 126308,    480,\n",
       "           558,   4614,    621,    481,    621,    538,    261,  16189,    641,\n",
       "          1348,    402,    634,   1669,     30,  19666,   3810,   1335,    842,\n",
       "          2418,    558,   1679,    673,    261,   1374, 113708,    326,   3324,\n",
       "         13906,    290,  44820,   4121,    395,    668,    198,    353,   4481,\n",
       "           922,  76004,   4272,   3521,    484,    392,  45842,    853, 108728,\n",
       "           326,   1617,   1869, 137182,    290,  20039,    481,    717,    316,\n",
       "          1335,   3692,    425,  35037,   2006,    316,   5980,    558,   4614,\n",
       "          1757,    481,    621,   2254, 198911,  18271,  59466,     30,    486,\n",
       "        103961,    486, 103961,    486, 103961,  23363,    306,   1232,  18896,\n",
       "           198,  51662,    290,   9809,   2870,    448,  23802,  40322,    326,\n",
       "           448,  78677,  20808, 186964,  23207,   1008,   1023,   1504,   2973,\n",
       "          2452,    316,  49931,   5765,  10420,    558,   4614,    621,    481,\n",
       "          2421,    261, 108355,   1200,    481,   8535,   1921,     30,    448,\n",
       "        173092,    343,   1661,    558,   3253,    621,    481,  29176,    363,\n",
       "          4711,     30,    363,     11,   7714,  49539,     11,   7714,  61507,\n",
       "            11,   7714,    198,   1608,   4862,   8611,    484,    290,   1645,\n",
       "         20647,   4435,   1078,  38391,    382,   4811,  18341,    483,    480,\n",
       "          3901,   4614,   2242,  76762, 163581, 180310,   2891,    540,    290,\n",
       "         48489,  37668,     30, 109505,   2174,  22932,     11,  10120,    558,\n",
       "          3673,  11527,    382,    306,    261,   4790,  25199,     13,    357,\n",
       "          2411,   1335,  40285,  25219,   1043,  30098,     13,  16638,    316,\n",
       "           810,     11,  66312,     13,   6549,    581,    722,  17170,   4908,\n",
       "          3673,  18926,   4044,    738,    413,   1299,    261,  15065,  66300,\n",
       "          3399,     13,   7790,   4951,    316,   4321,    290,  66950,    889,\n",
       "          4022,   4951,    316,   5060,    634,   8684,   4175,  42294,  41751,\n",
       "          4614,   2226, 155675, 119214,  11237,    395,  42294,     30,    353,\n",
       "          2670,   5781,      0,   6214,  97301,   1008,  82294,     13,   3627,\n",
       "         88971,  17239,     13,    533,  70823,   1489,  94465,    759,  70092,\n",
       "            89,  94465,    198,  12587,    621,    481,   3779,   1921, 126720,\n",
       "         47651,    306,  16979,     30,    461,  61415,   1023,    553, 125043,\n",
       "          1899,    540,    480,    198,   3253,   2242,    290,  58792,   1076,\n",
       "           428,   5016,  15657,     30,   3627,  18153,    842,    328,    290,\n",
       "          8165,    558,    392,   7924,  12159,    382,   2238,    261,  61143,\n",
       "          2118,    348,      0,   2763,    501,   4590,     30,  17158,    357,\n",
       "           665,   9295,   2395,  18313,    220,   5142,    198,   3673,   2391,\n",
       "          1327,   3508,    261,  43285,    328,    261,   5604,     11,    261,\n",
       "          1014,    973,     11,    261,   8522,     11,    326,    261,  36181,\n",
       "            11,    722,   2935,    922,  14158,     13,    357,  11915,  17291,\n",
       "          4828,    483,   2395,   4849,    558,   4614,    621,    481,   2421,\n",
       "           261,  57794,    306,   4918,     30,   2856,    527,   9111,    198,\n",
       "          3253,    316,    717,    261,   8039,    885,   8684,    198,   4614,\n",
       "         13367,    316,    261,  43358,  21107,   2751,    359,   1934,   8027,\n",
       "            30,   2317,    512,    475,    198,  12587,   2242,    290,  21663,\n",
       "          5060,    261,    458,    766,     30,   2514,    717,    316,    290,\n",
       "          1273,   4307,    558,  16349,    621,  10120,  81260,    810,    316,\n",
       "         11237,  17418,     30,   3604,    290, 110483,     12,   2377,    535,\n",
       "           558,  51662,    290,   9809,   2870,    261,  21352,    326,  10537,\n",
       "            13,   1608,   1606,   1841,   1001,  36523,    316,   3006,    869,\n",
       "           290,  21352,    558,  26590,     25,    392,   6449,    481,   1682,\n",
       "           495,  16842,   2896,     25,    392,   3160,   3692,  26590,     25,\n",
       "           392,  14999,  17291,   3644,    480,    316,    634,  16820,   3692,\n",
       "          2896,     25,    392,   3160,    357,   1682,    480,  14396,   3253,\n",
       "           621,    481,   5769,    220,     19, 117148,    402,   1001,   3608,\n",
       "           302,    971,     30,  61962,    480,   1072,   4175,    357,    939,\n",
       "          3778,   6687,    316,    220,     21,   6991,  42294,   7100,   1261,\n",
       "         51415,  24061,   1617,  18282,    395,   1617,  12355,   7357,    328,\n",
       "           498, 141819,   5396,  29363,    268,    558,    865,     83,    371,\n",
       "          2883,   2118,  32900,   3452,  42902,  64480,  33436,   1511,    261,\n",
       "          3608,    623, 169272,  18733,   2395,     11,    392,   2167,   4128,\n",
       "         10505, 193632,    914,   2105,   3692,   1679,  15657,   2935,  20918,\n",
       "           558,    355,  12159,   5230,    869,    261,   8773,   7801,    501,\n",
       "         19237,   1335,   1917,    198,   9312,   4856,     11,    357,   2304,\n",
       "           722,    328,    290,  19042,    842,    328,    922,  22762,     11,\n",
       "         11402,   1373,    402,    290,   3737,     11,    326,  45773,    357,\n",
       "           673,   7264,    484,   2163,    558,  21580,  56866,   8895,  10537,\n",
       "             6,    686,    562,   1078,    290,  45030,    328,   8663,     30,\n",
       "          7268,  52422,    558,  41058, 166335,    382,    922,   8340,  66457,\n",
       "         19000,    484,   1217,  15538,   1299,    261, 167541,  21642,    558,\n",
       "         55679,  36513,   4811,  30957,    558,  16935,    357,  13890,    261,\n",
       "           673,     79,    885,  27194,    357,   1299,    316,  19374,    261,\n",
       "          4590,    673,     79,    326,   5485,    480,    922,   6508,   1320,\n",
       "         21921,    933,   3496,    558,  51662,   1667, 178090,    885,   8340,\n",
       "          5765,  13332,   3214,     30,    623,   2036,   6175,  83682,    558,\n",
       "         47468,  38463,    866,     25,  12587,    621,    481,   1682,    316,\n",
       "          1101,   2105,     30,  19811,     25,    425,  24336,     82,  14803,\n",
       "         11037,    591,    922,  16564,      9,  12458,     11,    357,   4128,\n",
       "            13,    357,    673,   1327,  15015,    656,    326,   8274,    481,\n",
       "          1458, 165666,    558,  63595,    402, 148217,   2028,   2163,     13,\n",
       "        141260,  45030,    328,  32588,     13,   3274,  14219,    413,    261,\n",
       "          9952,  15512,    306,    290,  37553,    558,  21409,    481,   9598,\n",
       "          1078,    290,    284,   3260,  77257,   1218,  62611,    591,  19809,\n",
       "            30,  38159,    261,   3291,  14093,    540,   4410,    558,  53133,\n",
       "         56549,   5292,    290,   5057,    306,    820,     81,  49928,   4043,\n",
       "         44202,   1008, 135847,    261,   1899,  41751,   1366,    501,  19786,\n",
       "          4175,  51662,    290,   9809,   2870,    261,   1669,  69913,     11,\n",
       "           326,    220,  10376, 191538,     30,   5108,    885,    261,   7857,\n",
       "          1558,    830,     11,    448,    290, 133247,    261,   2212,   1284,\n",
       "           558,  77395,    553,   3592,     11,    631,    726,  12222,    553,\n",
       "          9861,     13,    357,    679,    261,  14744,     13,   2942,    306,\n",
       "           290,   1164,    558,   9790,  52720,    395,   2101,    316,    413,\n",
       "          5151,    290,  16044,   1008,   3072,   9790,   3779,   1339,   3741,\n",
       "           316,    717,    484,   1932,    198,   3813,   7006,     11,    481,\n",
       "           665,   5092,    306,   7381,    483,   1665,    481,   1481,  10275,\n",
       "          3779])"
      ]
     },
     "execution_count": 12,
     "metadata": {},
     "output_type": "execute_result"
    }
   ],
   "source": [
    "data = torch.tensor(enc.encode(text), dtype=torch.long)\n",
    "data[:1000]"
   ]
  },
  {
   "cell_type": "markdown",
   "id": "9cce4256-04f6-45de-bcd4-89d5387f88cc",
   "metadata": {},
   "source": [
    "# Spliting Train and Validation data"
   ]
  },
  {
   "cell_type": "code",
   "execution_count": 13,
   "id": "7515ef6f-e24e-46dd-b283-4e6dce9f90d7",
   "metadata": {},
   "outputs": [],
   "source": [
    "n = int(0.9* len(data))\n",
    "training_data = data[:n]\n",
    "validation_data = data[n:]"
   ]
  },
  {
   "cell_type": "markdown",
   "id": "debeabb5-a9e3-4d8b-8c23-338c9d616cca",
   "metadata": {},
   "source": [
    "# batch execution\n"
   ]
  },
  {
   "cell_type": "code",
   "execution_count": 14,
   "id": "16894b15-418d-4214-9e43-05219f8244ac",
   "metadata": {},
   "outputs": [],
   "source": [
    "batch_size = 4\n",
    "block_size = 8\n",
    "\n",
    "def get_batch(split : str) -> tuple:\n",
    "    data = training_data if split == 'train' else validation_data\n",
    "    ix = torch.randint(len(data)-block_size,(batch_size,))\n",
    "    x = torch.stack([data[i:i+block_size] for i in ix])\n",
    "    y = torch.stack([data[i+1:i+block_size+1] for i in ix])\n",
    "    return x,y"
   ]
  },
  {
   "cell_type": "code",
   "execution_count": 15,
   "id": "c2347cd8-33d1-4b73-aeda-303b32ef3c37",
   "metadata": {},
   "outputs": [
    {
     "name": "stdout",
     "output_type": "stream",
     "text": [
      "tensor([[ 3627,  2715,  7201,   261, 13857,   558,   220,    17],\n",
      "        [  484,  4787, 25093,   326,   261,  1647,  1218, 18861],\n",
      "        [51024,  3101, 54587,  5263,   316,  3411,  4175,   357],\n",
      "        [ 5621,   558, 18638,    56, 48526, 17546,  3413,    44]])\n",
      "tensor([[ 2715,  7201,   261, 13857,   558,   220,    17,   398],\n",
      "        [ 4787, 25093,   326,   261,  1647,  1218, 18861,   261],\n",
      "        [ 3101, 54587,  5263,   316,  3411,  4175,   357,  1299],\n",
      "        [  558, 18638,    56, 48526, 17546,  3413,    44, 11503]])\n"
     ]
    }
   ],
   "source": [
    "x,y = get_batch('train')\n",
    "print(x)\n",
    "print(y)"
   ]
  },
  {
   "cell_type": "code",
   "execution_count": null,
   "id": "7e77aecb-5809-445b-8da5-02a5b54cddde",
   "metadata": {},
   "outputs": [],
   "source": []
  },
  {
   "cell_type": "code",
   "execution_count": null,
   "id": "c6a3baca-8589-4bc0-936c-af52ed30ed7d",
   "metadata": {},
   "outputs": [],
   "source": []
  }
 ],
 "metadata": {
  "kernelspec": {
   "display_name": "Python 3 (ipykernel)",
   "language": "python",
   "name": "python3"
  },
  "language_info": {
   "codemirror_mode": {
    "name": "ipython",
    "version": 3
   },
   "file_extension": ".py",
   "mimetype": "text/x-python",
   "name": "python",
   "nbconvert_exporter": "python",
   "pygments_lexer": "ipython3",
   "version": "3.11.3"
  }
 },
 "nbformat": 4,
 "nbformat_minor": 5
}
